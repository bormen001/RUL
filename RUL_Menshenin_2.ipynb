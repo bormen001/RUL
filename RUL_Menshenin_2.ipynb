{
 "cells": [
  {
   "cell_type": "code",
   "execution_count": 73,
   "id": "f63efaa3",
   "metadata": {},
   "outputs": [],
   "source": [
    "import numpy as np\n",
    "import pandas as pd\n",
    "from matplotlib import pyplot as plt\n",
    "from sklearn.model_selection import train_test_split\n",
    "from sklearn.linear_model import LinearRegression, LogisticRegression\n",
    "from sklearn.preprocessing import StandardScaler\n",
    "from sklearn.metrics import mean_absolute_error, f1_score\n",
    "from catboost import CatBoostRegressor\n",
    "from tsfresh.feature_extraction import extract_features, MinimalFCParameters\n",
    "from sklearn.ensemble import AdaBoostRegressor\n",
    "\n",
    "PATH = 'c:/data/'\n",
    "y_data = pd.read_csv(PATH + 'train.csv', index_col='id')\n",
    "y_data.head()\n",
    "X_data = {}\n",
    "for row in y_data.iterrows():\n",
    "    file_name = row[0]\n",
    "    path = PATH + f'data_train/{file_name}'\n",
    "    X_data[file_name] = pd.read_csv(path)"
   ]
  },
  {
   "cell_type": "code",
   "execution_count": 74,
   "id": "a3ba3760",
   "metadata": {},
   "outputs": [
    {
     "name": "stderr",
     "output_type": "stream",
     "text": [
      "Feature Extraction: 100%|██████████| 10/10 [00:06<00:00,  1.49it/s]\n",
      "C:\\Users\\Alex\\anaconda3\\lib\\site-packages\\sklearn\\utils\\validation.py:993: DataConversionWarning: A column-vector y was passed when a 1d array was expected. Please change the shape of y to (n_samples, ), for example using ravel().\n",
      "  y = column_or_1d(y, warn=True)\n"
     ]
    }
   ],
   "source": [
    "# 1 этап\n",
    "y = (y_data == 1093).astype(int)\n",
    "X = pd.concat([X_data[file].assign(id=file) for file in y_data.index], axis=0, ignore_index=True)\n",
    "\n",
    "settings = MinimalFCParameters()\n",
    "X = extract_features(X, \n",
    "                     column_id=\"id\", \n",
    "                     default_fc_parameters=settings).loc[y.index]\n",
    "\n",
    "X_train, X_val, y_train, y_val = train_test_split(X, y, test_size=0.25, random_state=1)\n",
    "\n",
    "StSc = StandardScaler()\n",
    "X_train_sc = StSc.fit_transform(X_train)\n",
    "X_val_sc = StSc.transform(X_val)\n",
    "LogReg = LogisticRegression()\n",
    "LogReg.fit(X_train_sc, y_train)\n",
    "\n",
    "y_train_pred_outliers = pd.DataFrame(LogReg.predict(X_train_sc), \n",
    "                                     index=y_train.index, \n",
    "                                     columns=y_train.columns)\n",
    "y_val_pred_outliers = pd.DataFrame(LogReg.predict(X_val_sc), \n",
    "                                   index=y_val.index, \n",
    "                                   columns=y_val.columns)\n"
   ]
  },
  {
   "cell_type": "code",
   "execution_count": 76,
   "id": "575bdd1f",
   "metadata": {},
   "outputs": [
    {
     "name": "stdout",
     "output_type": "stream",
     "text": [
      "MAE on train set = 75.66\n",
      "MAE on test set = 106.61\n"
     ]
    }
   ],
   "source": [
    "#2 этап\n",
    "y = y_data.copy()\n",
    "X_train, X_val, y_train, y_val = train_test_split(X, y, test_size=0.25, random_state=1)\n",
    "y_train_wo_outliers = y_train[y_train != 1093].dropna()\n",
    "X_train_wo_outliers = X_train.loc[y_train_wo_outliers.index]\n",
    "StSc = StandardScaler()\n",
    "X_train_wo_outliers_sc = StSc.fit_transform(X_train_wo_outliers)\n",
    "X_train_sc = StSc.transform(X_train)\n",
    "X_val_sc = StSc.transform(X_val)\n",
    "#_Mensh Применяем L2-регуляризацию к модели для предотвращения переобучения\n",
    "cbr = CatBoostRegressor(random_state=1, verbose=0, l2_leaf_reg=0.05)\n",
    "cbr.fit(X_train_wo_outliers_sc, y_train_wo_outliers)\n",
    "\n",
    "y_train_pred = pd.DataFrame(cbr.predict(X_train_sc), \n",
    "                            index=y_train.index, \n",
    "                            columns=y_train.columns)\n",
    "y_val_pred = pd.DataFrame(cbr.predict(X_val_sc), \n",
    "                          index=y_val.index, \n",
    "                          columns=y_val.columns)\n",
    "ind = y_train_pred_outliers[y_train_pred_outliers['predicted']==1].index\n",
    "y_train_pred.loc[ind] = 1093\n",
    "ind = y_val_pred_outliers[y_val_pred_outliers['predicted']==1].index\n",
    "y_val_pred.loc[ind] = 1093\n",
    "mae_train = round(mean_absolute_error(y_train, y_train_pred), 2)\n",
    "mae_val = round(mean_absolute_error(y_val, y_val_pred), 2)\n",
    "print(f'MAE on train set = {mae_train}')\n",
    "print(f'MAE on test set = {mae_val}')\n"
   ]
  },
  {
   "cell_type": "code",
   "execution_count": null,
   "id": "081703a1",
   "metadata": {},
   "outputs": [],
   "source": []
  }
 ],
 "metadata": {
  "kernelspec": {
   "display_name": "Python 3 (ipykernel)",
   "language": "python",
   "name": "python3"
  },
  "language_info": {
   "codemirror_mode": {
    "name": "ipython",
    "version": 3
   },
   "file_extension": ".py",
   "mimetype": "text/x-python",
   "name": "python",
   "nbconvert_exporter": "python",
   "pygments_lexer": "ipython3",
   "version": "3.9.12"
  }
 },
 "nbformat": 4,
 "nbformat_minor": 5
}
